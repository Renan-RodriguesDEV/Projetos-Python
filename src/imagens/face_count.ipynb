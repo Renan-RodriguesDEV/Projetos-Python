{
 "cells": [
  {
   "cell_type": "code",
   "execution_count": null,
   "metadata": {},
   "outputs": [],
   "source": [
    "# libs necesserias - pip install openvc-python mediapipe\n",
    "import cv2\n",
    "import mediapipe as mp\n",
    "\n",
    "# inicializado webcam, e objetos do mediapipe de detecção e desenho\n",
    "webcam = cv2.VideoCapture(0)\n",
    "face_detector = mp.solutions.face_detection.FaceDetection()\n",
    "drawming = mp.solutions.drawing_utils\n",
    "\n",
    "# loop infinito para captura\n",
    "while True:\n",
    "    \n",
    "    # pegando a leitura da webcam\n",
    "    verify , frame = webcam.read()\n",
    "    if not verify:\n",
    "        print(f\"Não foi possível acessar a webcam {verify}\")\n",
    "        break\n",
    "    \n",
    "    # é necesserio guardar o frame em uma outra variavel para manipula-lá\n",
    "    imagem = frame\n",
    "    \n",
    "    # lista de rostos \n",
    "    rostos = face_detector.process(imagem)\n",
    "    \n",
    "    # se foi detectado algum rosto na lista de rostos\n",
    "    if rostos.detections:\n",
    "       \n",
    "        # contador de rosto\n",
    "        i=0\n",
    "        # para cada rosto em lista de rostos, desenhe na imagem nesse rosto\n",
    "        for rosto in rostos.detections:\n",
    "            drawming.draw_detection(imagem, rosto)\n",
    "            i+=1\n",
    "        print(f\"Foram detectados {i} rostos\")\n",
    "        \n",
    "    # exibindo a imagem da webcam após o desenho\n",
    "    cv2.imshow(\"Rosto da webcam\", imagem)\n",
    "    # break com codigo de tecla 27 (ESC)\n",
    "    if cv2.waitKey(5) == 27:\n",
    "        break\n",
    "# liberando a webcam e fechando todas as janelas da cv2\n",
    "webcam.release()\n",
    "cv2.destroyAllWindows()\n"
   ]
  },
  {
   "cell_type": "code",
   "execution_count": 6,
   "metadata": {},
   "outputs": [
    {
     "name": "stdout",
     "output_type": "stream",
     "text": [
      "Rostos: 0\n"
     ]
    }
   ],
   "source": [
    "import cv2\n",
    "import mediapipe as mp\n",
    "\n",
    "caminho = r\"C:\\Users\\Renan Rodrigues\\Documents\\JavaScript Projects\\Aplicacoes Web I\\Aula-08\\_Matrix\\img\\matrix4.jpg\"\n",
    "caminho =r\"C:\\Users\\Renan Rodrigues\\Documents\\JavaScript Projects\\Aplicacoes Web I\\Aula-10\\img\\piscinas.jpg\"\n",
    "# Load the image\n",
    "imagem = cv2.imread(caminho)\n",
    "\n",
    "reconhecimento_rosto = mp.solutions.face_detection\n",
    "desenho = mp.solutions.drawing_utils\n",
    "reconhecedor_rosto = reconhecimento_rosto.FaceDetection()\n",
    "\n",
    "# Process the image\n",
    "lista_rostos = reconhecedor_rosto.process(imagem)\n",
    "\n",
    "# Draw detections if faces are found\n",
    "if lista_rostos.detections:\n",
    "    for rosto in lista_rostos.detections:\n",
    "        desenho.draw_detection(imagem, rosto)\n",
    "        \n",
    "print('Rostos:',len(lista_rostos.detections)if lista_rostos.detections else 0)\n",
    "# Display the image with detections\n",
    "cv2.imshow(\"Rostos na imagem\", imagem)\n",
    "cv2.waitKey(0)\n",
    "cv2.destroyAllWindows()"
   ]
  }
 ],
 "metadata": {
  "kernelspec": {
   "display_name": "base",
   "language": "python",
   "name": "python3"
  },
  "language_info": {
   "codemirror_mode": {
    "name": "ipython",
    "version": 3
   },
   "file_extension": ".py",
   "mimetype": "text/x-python",
   "name": "python",
   "nbconvert_exporter": "python",
   "pygments_lexer": "ipython3",
   "version": "3.12.4"
  }
 },
 "nbformat": 4,
 "nbformat_minor": 2
}
