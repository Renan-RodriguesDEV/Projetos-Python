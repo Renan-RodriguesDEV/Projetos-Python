{
 "cells": [
  {
   "cell_type": "code",
   "execution_count": 9,
   "metadata": {},
   "outputs": [],
   "source": [
    "# acumulador de alertas\n",
    "import datetime\n",
    "\n",
    "\n",
    "acumulador_alertas = {\n",
    "    1: {\n",
    "        'qtde': 0,\n",
    "    },\n",
    "    2: {\n",
    "        'qtde': 0,\n",
    "    }\n",
    "}\n",
    "\n",
    "clientes = {\n",
    "    'droone.002@gmail.com':1,\n",
    "    'droone.001@gmail.com':2\n",
    "}\n",
    "\n",
    "def verify_hours(id_cliente):\n",
    "    if datetime.datetime.now().hour >= 23:\n",
    "        acumulador_alertas[id_cliente]['qtde'] = 0\n",
    "\n",
    "\n",
    "def append_alert(email):\n",
    "    id_cliente = select_client_id_by_email(email)\n",
    "    acumulador_alertas[id_cliente]['qtde'] += 1\n",
    "    verify_hours(id_cliente)\n",
    "    print('email acumulador_alertas', acumulador_alertas[id_cliente]['qtde'])    \n",
    "def select_client_id_by_email(email):\n",
    "    return clientes[email]"
   ]
  },
  {
   "cell_type": "code",
   "execution_count": 10,
   "metadata": {},
   "outputs": [
    {
     "name": "stdout",
     "output_type": "stream",
     "text": [
      "email acumulador_alertas 1\n",
      "email acumulador_alertas 2\n",
      "email acumulador_alertas 3\n",
      "email acumulador_alertas 4\n",
      "email acumulador_alertas 5\n",
      "email acumulador_alertas 6\n",
      "email acumulador_alertas 7\n",
      "email acumulador_alertas 8\n",
      "email acumulador_alertas 9\n"
     ]
    }
   ],
   "source": [
    "for i in range(1,10,1):\n",
    "    append_alert('droone.001@gmail.com')"
   ]
  },
  {
   "cell_type": "code",
   "execution_count": 22,
   "metadata": {},
   "outputs": [
    {
     "name": "stdout",
     "output_type": "stream",
     "text": [
      "False\n"
     ]
    }
   ],
   "source": [
    "ano = datetime.datetime.now().year\n",
    "mes = datetime.datetime.now().month\n",
    "dia = datetime.datetime.now().day\n",
    "agora = datetime.datetime.now()\n",
    "meia_noite = datetime.datetime(year=ano, month=mes, day=dia, hour=0, minute=0, second=0)\n",
    "print(agora > meia_noite)"
   ]
  }
 ],
 "metadata": {
  "kernelspec": {
   "display_name": "base",
   "language": "python",
   "name": "python3"
  },
  "language_info": {
   "codemirror_mode": {
    "name": "ipython",
    "version": 3
   },
   "file_extension": ".py",
   "mimetype": "text/x-python",
   "name": "python",
   "nbconvert_exporter": "python",
   "pygments_lexer": "ipython3",
   "version": "3.12.4"
  }
 },
 "nbformat": 4,
 "nbformat_minor": 2
}
