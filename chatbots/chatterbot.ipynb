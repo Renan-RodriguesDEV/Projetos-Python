{
 "cells": [
  {
   "cell_type": "code",
   "execution_count": null,
   "metadata": {},
   "outputs": [],
   "source": [
    "# !pip install ChatterBot spacy"
   ]
  },
  {
   "cell_type": "code",
   "execution_count": 1,
   "metadata": {},
   "outputs": [
    {
     "name": "stdout",
     "output_type": "stream",
     "text": [
      "✔ Download and installation successful\n",
      "You can now load the package via spacy.load('en_core_web_sm')\n"
     ]
    }
   ],
   "source": [
    "import numpy as np\n",
    "from chatterbot import ChatBot\n",
    "from chatterbot.trainers import ListTrainer\n",
    "\n",
    "# isso aqui só precisa para corrigir o bug\n",
    "from spacy.cli.download import download\n",
    "\n",
    "download(\"en_core_web_sm\")\n",
    "\n",
    "class ENGSM:\n",
    "    ISO_639_1 = 'en_core_web_sm'"
   ]
  },
  {
   "cell_type": "code",
   "execution_count": 2,
   "metadata": {},
   "outputs": [
    {
     "name": "stdout",
     "output_type": "stream",
     "text": [
      "List Trainer: [####################] 100%\n"
     ]
    }
   ],
   "source": [
    "chatBot = ChatBot(\"RenanChat\", tagger_language=ENGSM)\n",
    "\n",
    "dadosdetreino = [\n",
    "   \n",
    "    \"Iae mano tudo bem\",\n",
    "    \"Tudo numa boa e você como vai\",\n",
    "    \"Tô bem também\",\n",
    "    \"Mó paz\",\n",
    "    \"Gosta de python?\",\n",
    "    \"Adoro acho irado\",\n",
    "    \"Eu também\",\n",
    "    \"Que bom\",\n",
    "    \"Qual é o seu nome meu mano?\",\n",
    "    \"Meu nome é Rezzn Bot\",\n",
    "    \"Qual é a sua plataforma favorita?\",\n",
    "    \"Minha plataforma favorita é Playstation e a sua\",\n",
    "    \"A minha é PC\",\n",
    "    \"Meu jogo favorito é GTA San Andreas\",\n",
    "    \"Qual é o seu jogo favorito ?\",\n",
    "    \"Meu jogo favorito é Batman Arkham\",\n",
    "    \"Qual é a sua série favorita ?\",\n",
    "    \"Minha série favorita é The last of us\",\n",
    "    \"Qual é o seu filme favorito ?\",\n",
    "    \"Meu filme favorito é Sherek\",\n",
    "    \"Qual é a sua música favorita ?\",\n",
    "    \"Minha música favorita é Smells Like Teen Spirit\",\n",
    "    \"Pode crer foi bom te conhecer mano\"\n",
    "    \n",
    "]\n",
    "\n",
    "trainer = ListTrainer(chatBot)\n",
    "trainer.train(dadosdetreino)"
   ]
  },
  {
   "cell_type": "code",
   "execution_count": 3,
   "metadata": {},
   "outputs": [
    {
     "name": "stdout",
     "output_type": "stream",
     "text": [
      "Meu nome é Rezzn Bot\n",
      "Eu também\n",
      "Que bom\n",
      "Qual é a sua plataforma favorita?\n",
      "Que bom\n",
      "Meu jogo favorito é GTA San Andreas\n",
      "iae\n",
      "Tô bem também\n",
      "Minha música favorita é Smells Like Teen Spirit\n",
      "Qual é o seu jogo favorito ?\n",
      "Qual é o seu jogo favorito ?\n",
      "Gosta de python?\n",
      "iae\n",
      "nosso q foda\n",
      "Meu nome é Rezzn Bot\n"
     ]
    },
    {
     "name": "stderr",
     "output_type": "stream",
     "text": [
      "No value for search_text was available on the provided input\n"
     ]
    },
    {
     "name": "stdout",
     "output_type": "stream",
     "text": [
      "Iae mano tudo bem\n"
     ]
    }
   ],
   "source": [
    "while True:\n",
    "    try:\n",
    "        mensagem = input(\"Mande uma mensagem para o RenanChat:\")\n",
    "        if mensagem == \"exit()\":\n",
    "            break\n",
    "        resposta = chatBot.get_response(mensagem)\n",
    "        print(resposta)\n",
    "        dadosdetreino.append(str(mensagem))\n",
    "    except KeyboardInterrupt:\n",
    "        print(\"\\nOperação interrompida pelo usuário.\")\n",
    "        break\n",
    "\n",
    "    "
   ]
  },
  {
   "cell_type": "code",
   "execution_count": 4,
   "metadata": {},
   "outputs": [],
   "source": [
    "chatBot.storage.drop()"
   ]
  }
 ],
 "metadata": {
  "kernelspec": {
   "display_name": "base",
   "language": "python",
   "name": "python3"
  },
  "language_info": {
   "codemirror_mode": {
    "name": "ipython",
    "version": 3
   },
   "file_extension": ".py",
   "mimetype": "text/x-python",
   "name": "python",
   "nbconvert_exporter": "python",
   "pygments_lexer": "ipython3",
   "version": "3.12.4"
  }
 },
 "nbformat": 4,
 "nbformat_minor": 2
}
