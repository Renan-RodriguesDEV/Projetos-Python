{
 "cells": [
  {
   "cell_type": "code",
   "execution_count": null,
   "metadata": {},
   "outputs": [],
   "source": [
    "import pandas as pd\n",
    "import numpy as np\n",
    "from sklearn.preprocessing import OneHotEncoder\n",
    "from sklearn.preprocessing import MinMaxScaler\n",
    "from sklearn.model_selection import train_test_split\n",
    "from sklearn.metrics import accuracy_score\n",
    "\n",
    "df = pd.read_csv('dados/exemplo3.csv')\n",
    "\n",
    "X = df.drop('risco', axis=1)\n",
    "y = df.risco\n",
    "\n",
    "onehot = OneHotEncoder(sparse=False, drop=\"first\")\n",
    "X_bin = onehot.fit_transform(X.select_dtypes(include=['object']))\n",
    "\n",
    "mmscaler = MinMaxScaler()\n",
    "X_num = mmscaler.fit_transform(X.select_dtypes(exclude=['object']))\n",
    "\n",
    "X_all = np.append(X_num, X_bin, axis=1)\n",
    "\n",
    "# Divisão dos conjuntos de treinamento e teste\n",
    "X_train, X_test, y_train, y_test = train_test_split(X_all, y, test_size=1/3, random_state=42)"
   ]
  },
  {
   "cell_type": "markdown",
   "metadata": {},
   "source": [
    "Para aplicar o classifador, faremos a importação da classe RandomForestClassifier presente no subpacote sklearn.ensemble.\n",
    "\n",
    "Parâmetros mais importantes:\n",
    "\n",
    "n_estimators: número de árvores\n",
    "max_depth: profundidade máxima da árvore\n",
    "max_samples: percentual (entre 0 e 1) da amostra utilizada na criação de cada árvore"
   ]
  },
  {
   "cell_type": "code",
   "execution_count": null,
   "metadata": {},
   "outputs": [],
   "source": [
    "from  sklearn.ensemble import RandomForestClassifier\n",
    "\n",
    "rfc = RandomForestClassifier(n_estimators=100, random_state=42)\n",
    "rfc.fit(X_train, y_train)\n",
    "\n",
    "accuracy_score(y_test, rfc.predict(X_test))"
   ]
  },
  {
   "cell_type": "code",
   "execution_count": null,
   "metadata": {},
   "outputs": [],
   "source": [
    "n = list(range(100, 200))\n",
    "accu = []\n",
    "for i in n:\n",
    "    rfc = RandomForestClassifier(n_estimators=i, random_state=42)\n",
    "    rfc.fit(X_train, y_train)\n",
    "    accu.append(accuracy_score(y_test, rfc.predict(X_test)))"
   ]
  },
  {
   "cell_type": "code",
   "execution_count": null,
   "metadata": {},
   "outputs": [],
   "source": [
    "import matplotlib.pyplot as plt\n",
    "plt.plot(n, accu)"
   ]
  }
 ],
 "metadata": {
  "kernelspec": {
   "display_name": "meuambiente",
   "language": "python",
   "name": "python3"
  },
  "language_info": {
   "name": "python",
   "version": "3.11.5"
  }
 },
 "nbformat": 4,
 "nbformat_minor": 2
}
