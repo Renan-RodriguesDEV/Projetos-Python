{
 "cells": [
  {
   "cell_type": "code",
   "execution_count": null,
   "metadata": {},
   "outputs": [],
   "source": [
    "from selenium import webdriver\n",
    "from selenium.webdriver.common.by import By\n",
    "import time\n",
    "\n",
    "# from selenium.webdriver.edge.service import Service\n",
    "# service = Service(verbose = True)\n",
    "# driver = webdriver.Edge(service = service)\n",
    "\n",
    "browser = webdriver.Edge()\n",
    "\n",
    "browser.get('https://ead.eduvaleavare.com.br/login/index.php')\n",
    "browser.find_element(By.XPATH,'//*[@id=\"username\"]').send_keys(\"060207\")\n",
    "browser.find_element(By.XPATH,'//*[@id=\"password\"]').send_keys(\"20022005\")\n",
    "pg.press('enter')\n",
    "\n",
    "time.sleep(5)\n",
    "browser.quit()"
   ]
  }
 ],
 "metadata": {
  "kernelspec": {
   "display_name": "base",
   "language": "python",
   "name": "python3"
  },
  "language_info": {
   "name": "python",
   "version": "3.11.5"
  }
 },
 "nbformat": 4,
 "nbformat_minor": 2
}
