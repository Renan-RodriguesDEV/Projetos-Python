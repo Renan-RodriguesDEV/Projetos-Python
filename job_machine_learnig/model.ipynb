{
 "cells": [
  {
   "cell_type": "code",
   "execution_count": 13,
   "metadata": {},
   "outputs": [],
   "source": [
    "import tensorflow as tf\n",
    "import keras\n",
    "import os\n",
    "from sklearn.model_selection import train_test_split\n",
    "from tensorflow.keras.models import Sequential\n",
    "from tensorflow.keras import layers"
   ]
  },
  {
   "cell_type": "code",
   "execution_count": 11,
   "metadata": {},
   "outputs": [
    {
     "name": "stdout",
     "output_type": "stream",
     "text": [
      "C:/Users/User/Pictures/data_carcacas/test\n",
      "C:/Users/User/Pictures/data_carcacas/train\n",
      "C:/Users/User/Pictures/data_carcacas/validation\n"
     ]
    }
   ],
   "source": [
    "data_base_path = 'C:/Users/User/Pictures/data_carcacas'\n",
    "test_path= os.path.join(data_base_path,'test').replace(os.path.sep,\"/\")\n",
    "train_path=os.path.join(data_base_path,'train').replace(os.path.sep,\"/\")\n",
    "validation_path=os.path.join(data_base_path,'validation').replace(os.path.sep,\"/\")\n",
    "print(test_path)\n",
    "print(train_path)\n",
    "print(validation_path)"
   ]
  },
  {
   "cell_type": "code",
   "execution_count": null,
   "metadata": {},
   "outputs": [],
   "source": [
    "heigth,width=180,180 #config img\n",
    "epochs = 20 # qnts epocas ele ira iterar para o train\n",
    "batch_size = 32 # tamanho dos lotes\n",
    "learnig_rate=0.0001 # taxa de aprendizagem para o optimizer\n",
    "\n",
    "classes = ['ausente','escassa','uniforme','mediana']\n",
    "count_class = len(classes)"
   ]
  },
  {
   "cell_type": "code",
   "execution_count": null,
   "metadata": {},
   "outputs": [],
   "source": [
    "# data set treino\n",
    "dataset_test = keras.utils.image_dataset_from_directory(\n",
    "    train_path,\n",
    "    image_size=(width,heigth),\n",
    "    shuffle=True,\n",
    "    batch_size=batch_size,\n",
    "    validation_split=False\n",
    ")\n",
    "# data set validacao\n",
    "dataset_test = keras.utils.image_dataset_from_directory(\n",
    "    validation_path,\n",
    "    image_size=(width,heigth),\n",
    "    shuffle=True,\n",
    "    batch_size=batch_size,\n",
    "    validation_split=False\n",
    ")\n",
    "# data set teste\n",
    "dataset_test = keras.utils.image_dataset_from_directory(\n",
    "    test_path,\n",
    "    image_size=(width,heigth),\n",
    "    shuffle=True,\n",
    "    batch_size=batch_size,\n",
    "    validation_split=False\n",
    ")"
   ]
  },
  {
   "cell_type": "code",
   "execution_count": null,
   "metadata": {},
   "outputs": [],
   "source": [
    "escala = layers.Rescaling(scale=1./255)#normaliza \n",
    "\n",
    "modelo = Sequential([\n",
    "    escala,\n",
    "    \n",
    "])"
   ]
  }
 ],
 "metadata": {
  "kernelspec": {
   "display_name": "base",
   "language": "python",
   "name": "python3"
  },
  "language_info": {
   "codemirror_mode": {
    "name": "ipython",
    "version": 3
   },
   "file_extension": ".py",
   "mimetype": "text/x-python",
   "name": "python",
   "nbconvert_exporter": "python",
   "pygments_lexer": "ipython3",
   "version": "3.11.5"
  }
 },
 "nbformat": 4,
 "nbformat_minor": 2
}
